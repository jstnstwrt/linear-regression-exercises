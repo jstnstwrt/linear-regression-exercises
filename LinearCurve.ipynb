{
 "cells": [
  {
   "cell_type": "markdown",
   "metadata": {},
   "source": [
    "Challenge Set 3\n",
    "\n",
    "Topic: Linear Regression\n",
    "\n",
    "Date: 2/4/2016\n",
    "\n",
    "Name: Justin Stewart"
   ]
  },
  {
   "cell_type": "markdown",
   "metadata": {},
   "source": [
    "# Linear Regression and Learning Curve challenges"
   ]
  },
  {
   "cell_type": "code",
   "execution_count": 38,
   "metadata": {
    "collapsed": true
   },
   "outputs": [],
   "source": [
    "import pandas as pd\n",
    "import numpy as np\n",
    "from sklearn.linear_model import LinearRegression\n",
    "from sklearn.cross_validation import train_test_split\n",
    "from sklearn.metrics import mean_squared_error\n",
    "from sklearn.preprocessing import PolynomialFeatures\n",
    "import matplotlib.pyplot as plt \n",
    "import seaborn\n",
    "%matplotlib inline"
   ]
  },
  {
   "cell_type": "markdown",
   "metadata": {},
   "source": [
    "### Challenge 1\n",
    "\n",
    "Generate (fake) data that is linearly related to log(x). You are making this model up. It is of the form B0 + B1*log(x) + epsilon. (You are making up the parameters.) Simulate some data from this model. Then fit two models to it: quadratic (second degree polynomial) and logarithmic (log(x)) (The second one should fit really well, since it has the same form as the underlying model!)"
   ]
  },
  {
   "cell_type": "code",
   "execution_count": 38,
   "metadata": {
    "collapsed": false
   },
   "outputs": [],
   "source": [
    "x = np.array(np.random.rand(1000,1))"
   ]
  },
  {
   "cell_type": "code",
   "execution_count": 40,
   "metadata": {
    "collapsed": false
   },
   "outputs": [],
   "source": [
    "b0,b1 = 5,3"
   ]
  },
  {
   "cell_type": "code",
   "execution_count": 41,
   "metadata": {
    "collapsed": true
   },
   "outputs": [],
   "source": [
    "y = b0 + b1*np.log(x)"
   ]
  },
  {
   "cell_type": "code",
   "execution_count": 45,
   "metadata": {
    "collapsed": false
   },
   "outputs": [
    {
     "name": "stdout",
     "output_type": "stream",
     "text": [
      "0.593093027819\n"
     ]
    }
   ],
   "source": [
    "rgr_sq = LinearRegression()\n",
    "rgr_sq.fit(np.square(x),y)\n",
    "print rgr_sq.score(np.square(x),y)\n"
   ]
  },
  {
   "cell_type": "code",
   "execution_count": 46,
   "metadata": {
    "collapsed": false
   },
   "outputs": [
    {
     "name": "stdout",
     "output_type": "stream",
     "text": [
      "1.0\n"
     ]
    }
   ],
   "source": [
    "rgr_log = LinearRegression()\n",
    "rgr_log.fit(np.log(x),y)\n",
    "print rgr_log.score(np.log(x),y)"
   ]
  },
  {
   "cell_type": "markdown",
   "metadata": {},
   "source": [
    "### Challenge 2\n",
    "\n",
    "Generate (fake) data from a model of the form B0 + B1*x + B2*x^2 + epsilon. (You are making up the parameters.) Split the data into a training and test set. Fit a model to your training set. Calculate mean squared error on your training set. Then calculate it on your test set. (You could use sklearn.metrics.mean_squared_error.)"
   ]
  },
  {
   "cell_type": "code",
   "execution_count": 81,
   "metadata": {
    "collapsed": false
   },
   "outputs": [],
   "source": [
    "X = np.array(np.random.rand(1000,1))\n",
    "e = np.array(np.random.rand(1000,1))\n",
    "b0,b1,b2  = 5,3,2.5\n",
    "y = b0 + b1*X + b2*np.square(X) + e"
   ]
  },
  {
   "cell_type": "code",
   "execution_count": 76,
   "metadata": {
    "collapsed": true
   },
   "outputs": [],
   "source": [
    "x_train, x_test, y_train, y_test = train_test_split(X,y,test_size=.33,random_state=1)"
   ]
  },
  {
   "cell_type": "code",
   "execution_count": 77,
   "metadata": {
    "collapsed": false
   },
   "outputs": [
    {
     "name": "stdout",
     "output_type": "stream",
     "text": [
      "0.116205297746\n"
     ]
    }
   ],
   "source": [
    "rgr = LinearRegression()\n",
    "rgr.fit(x_train,y_train)\n",
    "preds_train = rgr.predict(x_train)\n",
    "print mean_squared_error(y_train,preds_train)"
   ]
  },
  {
   "cell_type": "code",
   "execution_count": 78,
   "metadata": {
    "collapsed": false
   },
   "outputs": [
    {
     "name": "stdout",
     "output_type": "stream",
     "text": [
      "0.124219645425\n"
     ]
    }
   ],
   "source": [
    "preds_test = rgr.predict(x_test)\n",
    "print mean_squared_error(y_test,preds_test)"
   ]
  },
  {
   "cell_type": "markdown",
   "metadata": {},
   "source": [
    "### Challenge 3\n",
    "\n",
    "For the data from two (above), try polynomial fits from 0th (just constant) to 7th order (highest term x^7). Over the x axis of model degree (8 points), plot:\n",
    "\n",
    "training error\n",
    "test error\n",
    "R squared\n",
    "AIC\n"
   ]
  },
  {
   "cell_type": "code",
   "execution_count": 79,
   "metadata": {
    "collapsed": false
   },
   "outputs": [],
   "source": [
    "r2 = []\n",
    "mse_test = []\n",
    "mse_train = []\n",
    "for i in range(8):\n",
    "    poly = PolynomialFeatures(i)\n",
    "    Xnew = poly.fit_transform(X)\n",
    "    x_train, x_test, y_train, y_test = train_test_split(Xnew,y,test_size=.33,random_state=1)\n",
    "    rgr = LinearRegression()\n",
    "    rgr.fit(x_train,y_train)\n",
    "    preds_train, preds_test = rgr.predict(x_train),rgr.predict(x_test)\n",
    "    \n",
    "    mse_train.append(mean_squared_error(y_train,preds_train)) \n",
    "    mse_test.append(mean_squared_error(y_test,preds_test))\n",
    "    r2.append(rgr.score(x_train,y_train))\n",
    "    \n",
    "    d = {}\n",
    "    d['r2'] = r2\n",
    "    d['mse_train'] = mse_train\n",
    "    d['mse_test'] = mse_test\n",
    "    d['poly'] = range(8)\n"
   ]
  },
  {
   "cell_type": "code",
   "execution_count": 80,
   "metadata": {
    "collapsed": false
   },
   "outputs": [
    {
     "data": {
      "text/plain": [
       "<matplotlib.legend.Legend at 0x10bae4f10>"
      ]
     },
     "execution_count": 80,
     "metadata": {},
     "output_type": "execute_result"
    },
    {
     "data": {
      "image/png": "[encoded data removed]",
      "text/plain": [
       "<matplotlib.figure.Figure at 0x10b946a50>"
      ]
     },
     "metadata": {},
     "output_type": "display_data"
    }
   ],
   "source": [
    "plt.plot(d['poly'],d['r2'],label='R-squared')\n",
    "plt.plot(d['poly'],d['mse_train'],label='MSE-train')\n",
    "plt.plot(d['poly'],d['mse_test'],label='MSE-test')\n",
    "plt.xlabel('Number of Polynomial Features')\n",
    "plt.legend()"
   ]
  },
  {
   "cell_type": "markdown",
   "metadata": {},
   "source": [
    "### Challenge 4\n",
    "\n",
    "For the data from two (above), fit a model to only the first 5 of your data points (m=5). Then to first 10 (m=10). Then to first 15 (m=15). In this manner, keep fitting until you fit your entire training set. For each step, calculate the training error and the test error. Plot both (in the same plot) over m. This is called a learning curve."
   ]
  },
  {
   "cell_type": "code",
   "execution_count": 118,
   "metadata": {
    "collapsed": true
   },
   "outputs": [],
   "source": [
    "mse_test = []\n",
    "mse_train = []\n",
    "\n",
    "X = np.array(np.random.rand(1000,1))\n",
    "e = np.array(np.random.rand(1000,1))\n",
    "b0,b1,b2  = 5,3,2.5\n",
    "y = b0 + b1*X + b2*np.square(X) + e\n",
    "\n",
    "for i in range(5,1000,100):\n",
    "    x_train, x_test, y_train, y_test = train_test_split(X[:i+1],y[:i+1],test_size=.33,random_state=1)\n",
    "    rgr = LinearRegression()\n",
    "    rgr.fit(x_train,y_train)\n",
    "    preds_train, preds_test = rgr.predict(x_train),rgr.predict(x_test)\n",
    "    mse_train.append(mean_squared_error(y_train,preds_train)) \n",
    "    mse_test.append(mean_squared_error(y_test,preds_test))\n",
    "    \n",
    "    d = {}\n",
    "    d['mse_train'] = mse_train\n",
    "    d['mse_test'] = mse_test\n",
    "    d['n'] = range(5,1000,100)"
   ]
  },
  {
   "cell_type": "code",
   "execution_count": 119,
   "metadata": {
    "collapsed": false
   },
   "outputs": [
    {
     "data": {
      "text/plain": [
       "<matplotlib.legend.Legend at 0x10d611bd0>"
      ]
     },
     "execution_count": 119,
     "metadata": {},
     "output_type": "execute_result"
    },
    {
     "data": {
      "image/png": "[encoded data removed]",
      "text/plain": [
       "<matplotlib.figure.Figure at 0x10c8012d0>"
      ]
     },
     "metadata": {},
     "output_type": "display_data"
    }
   ],
   "source": [
    "plt.plot(d['n'],d['mse_train'],label='MSE-train')\n",
    "plt.plot(d['n'],d['mse_test'],label='MSE-test')\n",
    "plt.xlabel('Sample size')\n",
    "plt.ylabel('Mean Squared Error')\n",
    "plt.legend()"
   ]
  }
 ],
 "metadata": {
  "kernelspec": {
   "display_name": "Python 2",
   "language": "python",
   "name": "python2"
  },
  "language_info": {
   "codemirror_mode": {
    "name": "ipython",
    "version": 2
   },
   "file_extension": ".py",
   "mimetype": "text/x-python",
   "name": "python",
   "nbconvert_exporter": "python",
   "pygments_lexer": "ipython2",
   "version": "2.7.11"
  }
 },
 "nbformat": 4,
 "nbformat_minor": 0
}
